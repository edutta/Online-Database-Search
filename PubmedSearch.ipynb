from Bio import Entrez

#Function for search
def search(query):
    Entrez.email = 'your.email@example.com'
    handle = Entrez.esearch(db='pubmed', 
                            sort='relevance', 
                            retmax='2000',
                            retmode='xml', 
                            mindate=2000,
                            maxdate=2020,
                            term=query)
    results = Entrez.read(handle)
    return results

#function for fetching the pubmed id
def fetch_details(id_list):
    ids = ','.join(id_list)
    Entrez.email = 'your.email@example.com'
    handle = Entrez.efetch(db='pubmed',
                           retmode='xml',
                           id=ids)
    results = Entrez.read(handle)
    return results


